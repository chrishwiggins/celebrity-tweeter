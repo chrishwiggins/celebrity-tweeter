{
 "cells": [
  {
   "cell_type": "code",
   "execution_count": 52,
   "metadata": {},
   "outputs": [],
   "source": [
    "import boto3\n",
    "from botocore.vendored import requests\n",
    "import twitter\n",
    "import base64\n",
    "session = boto3.session.Session(region_name='us-west-2')\n",
    "rek = session.client('rekognition')\n",
    "ddb = session.resource('dynamodb').Table('celebrity-handler')\n",
    "ssm = session.client('ssm')\n",
    "api = twitter.Api(*ssm.get_parameters(Names=[os.getenv(\"SSM_PARAMETER_NAME\", \"CFN-APIKeys-GMVD9X2JJsLO\")])['Parameters'][0]['Value'].split(','))\n",
    "TWITTER_SN = api.VerifyCredentials().screen_name\n",
    "\n",
    "def validate_record(payload):\n",
    "    if (\n",
    "        TWITTER_SN in payload.get('text', '') and\n",
    "        payload.get('entities', {}).get('media') and\n",
    "        'RT' not in payload.get('text')\n",
    "    ):\n",
    "        return True\n",
    "    return False\n",
    "\n",
    "def process_record(payload):\n",
    "    requests.get(payload['entities']['media'][0]['media_url']+\":large\")\n",
    "    celebs = rek.recognize_celebrities(Image={'Bytes': resp.content})['CelebrityFaces']\n",
    "    handles = []\n",
    "    for celeb in celebs:\n",
    "        ddb_resp = ddb.get_item(Key={\"id\": celeb['Id']})\n",
    "        if ddb_resp.get('Item'):\n",
    "            handles.append(ddb_resp['Item']['handle'])\n",
    "    if not handles:\n",
    "        api.PostUpdate(\n",
    "            \"There was no one famous in your picture! #lame\",\n",
    "            in_reply_to_status_id=payload['id']\n",
    "        )\n",
    "    status = \"That looks like a picture of {}\".format(', '.join(handles))\n",
    "    api.PostUpdate(status, in_reply_to_status_id=payload['id'])\n",
    "    \n",
    "\n",
    "def lambda_handler(event, context):\n",
    "    for record in event['Records']:\n",
    "        payload = json.loads(base64.b64decode(record['kinesis']['data']))\n",
    "        if not validate_record(payload):\n",
    "            return\n",
    "        process_record(payload)\n",
    "    \n",
    "    \n"
   ]
  },
  {
   "cell_type": "code",
   "execution_count": 42,
   "metadata": {},
   "outputs": [],
   "source": []
  },
  {
   "cell_type": "code",
   "execution_count": 53,
   "metadata": {},
   "outputs": [
    {
     "data": {
      "text/plain": [
       "{u'CelebrityFaces': [{u'Face': {u'BoundingBox': {u'Height': 0.6118518710136414,\n",
       "     u'Left': 0.273333340883255,\n",
       "     u'Top': 0.2029629647731781,\n",
       "     u'Width': 0.4588888883590698},\n",
       "    u'Confidence': 99.99918365478516,\n",
       "    u'Landmarks': [{u'Type': u'eyeLeft',\n",
       "      u'X': 0.4332115650177002,\n",
       "      u'Y': 0.45033934712409973},\n",
       "     {u'Type': u'eyeRight',\n",
       "      u'X': 0.5812413692474365,\n",
       "      u'Y': 0.46330589056015015},\n",
       "     {u'Type': u'nose', u'X': 0.5083878040313721, u'Y': 0.5419089794158936},\n",
       "     {u'Type': u'mouthLeft',\n",
       "      u'X': 0.43395864963531494,\n",
       "      u'Y': 0.6721764206886292},\n",
       "     {u'Type': u'mouthRight',\n",
       "      u'X': 0.5558940768241882,\n",
       "      u'Y': 0.6813442707061768}],\n",
       "    u'Pose': {u'Pitch': 10.68148422241211,\n",
       "     u'Roll': 3.123420476913452,\n",
       "     u'Yaw': 3.5766777992248535},\n",
       "    u'Quality': {u'Brightness': 36.461856842041016,\n",
       "     u'Sharpness': 99.9980239868164}},\n",
       "   u'Id': u'3CI7QV9d',\n",
       "   u'MatchConfidence': 100.0,\n",
       "   u'Name': u'Elon Musk',\n",
       "   u'Urls': [u'www.imdb.com/name/nm1907769']}],\n",
       " u'OrientationCorrection': u'ROTATE_0',\n",
       " 'ResponseMetadata': {'HTTPHeaders': {'connection': 'keep-alive',\n",
       "   'content-length': '842',\n",
       "   'content-type': 'application/x-amz-json-1.1',\n",
       "   'date': 'Wed, 21 Jun 2017 22:08:08 GMT',\n",
       "   'x-amzn-requestid': '1b518b46-56ce-11e7-bd40-eb6a4fe52d58'},\n",
       "  'HTTPStatusCode': 200,\n",
       "  'RequestId': '1b518b46-56ce-11e7-bd40-eb6a4fe52d58',\n",
       "  'RetryAttempts': 0},\n",
       " u'UnrecognizedFaces': []}"
      ]
     },
     "execution_count": 53,
     "metadata": {},
     "output_type": "execute_result"
    }
   ],
   "source": [
    "resp"
   ]
  },
  {
   "cell_type": "code",
   "execution_count": null,
   "metadata": {
    "collapsed": true
   },
   "outputs": [],
   "source": []
  }
 ],
 "metadata": {
  "kernelspec": {
   "display_name": "Python 3",
   "language": "python",
   "name": "python3"
  },
  "language_info": {
   "codemirror_mode": {
    "name": "ipython",
    "version": 2
   },
   "file_extension": ".py",
   "mimetype": "text/x-python",
   "name": "python",
   "nbconvert_exporter": "python",
   "pygments_lexer": "ipython2",
   "version": "2.7.13"
  }
 },
 "nbformat": 4,
 "nbformat_minor": 2
}
